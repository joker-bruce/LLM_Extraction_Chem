{
 "cells": [
  {
   "cell_type": "code",
   "execution_count": 1,
   "id": "65cfd040-7667-424c-8920-8b734f32b899",
   "metadata": {},
   "outputs": [],
   "source": [
    "from openai import OpenAI\n",
    "import pandas as pd"
   ]
  },
  {
   "cell_type": "code",
   "execution_count": 2,
   "id": "24f6491e-a07f-4477-8ce1-f96b518f79f4",
   "metadata": {},
   "outputs": [],
   "source": [
    "client = OpenAI(api_key='')"
   ]
  },
  {
   "cell_type": "code",
   "execution_count": null,
   "id": "ded8c631-a3db-4471-b278-e9b92aa941a5",
   "metadata": {},
   "outputs": [],
   "source": [
    "client.files.create(\n",
    "  file=open(\"ft_gpt_834.jsonl\", \"rb\"),\n",
    "  purpose=\"fine-tune\"\n",
    ")"
   ]
  },
  {
   "cell_type": "code",
   "execution_count": null,
   "id": "f7a558d2-7ffc-42a2-a0ba-05406d1132cd",
   "metadata": {},
   "outputs": [],
   "source": [
    "client.fine_tuning.jobs.create(\n",
    "  training_file='', \n",
    "  model=\"gpt-3.5-turbo\"\n",
    ")"
   ]
  },
  {
   "cell_type": "code",
   "execution_count": 4,
   "id": "531c62fc-f6a1-449f-a868-d88de687d80d",
   "metadata": {},
   "outputs": [],
   "source": [
    "template = '''You are a chemical reaction data formatter. You will be provided unstructured data about the procedure for performing a chemical reaction and partially structured data about the molecules involved to convert into a single formatted JSON. I will give you the format of the required JSON and short descriptions of what is required in these fields. Here is the format of the JSON file, with a description of the required information:\n",
    "\n",
    " {{\n",
    "    \"reactants\": [\n",
    "        {{\n",
    "            \"name\": \"Reactant name\",\n",
    "            \"amount\": \"Reactant amount\",\n",
    "            \"mols\": \"Reactant moles\", \n",
    "            \"smiles\": \"Reactant SMILES\"\n",
    "        }},\n",
    "        ...\n",
    "    ],\n",
    "    \"spectators\": [\n",
    "        {{\n",
    "            \"name\": \"Spectator/solvent name\",\n",
    "            \"amount\": \"Spectator/solvent amount\",\n",
    "            \"mol\": \"Spectator/solvent moles\", \n",
    "            \"smiles\": \"Solvent SMILES\"\n",
    "        }},\n",
    "        ...\n",
    "    ],\n",
    "    \"products\": [\n",
    "        {{\n",
    "            \"name\": \"Product name\",\n",
    "            \"amount\": \"Product amount\",\n",
    "            \"mols\": \"Product moles\", \n",
    "            \"smiles\": \"Product SMILES\"\n",
    "        }},\n",
    "        ...\n",
    "    ],\n",
    "    \"yield\": \"reaction yield\"\n",
    "    \"procedures\": [\n",
    "        {{\n",
    "            \"procedure\": \"Procedure type (Choose from preparation, reaction, workup, purification only. Workup refers to the addition of chemicals for quenching/neutralizing. Purification refers to subsequent isolation like filtration. Most reactions do contain both workup and purification, do not miss any of those, even within sentences. Make sure each sentence of the procedure is analysed for this)\",\n",
    "            \"chemicals involved\": \"Chemicals involved in the reaction. For a workup or purification, only mention the chemicals used for the workup/purification\",\n",
    "            \"description\": \"Description\"\n",
    "            \"temperature\": \"temperature\",\n",
    "            \"time\": \"time taken\",\n",
    "        }},\n",
    "        ...\n",
    "    ],\n",
    "    \"total_time\": \"Total amount of time for reaction\"\n",
    "    \"product information\": [\n",
    "        {{\n",
    "            \"type\": \"Type of information (qualitative or quantitative or N/A only. There can be multiple parts of characterization informations separated by \"; \" or \". \" characters. Separate these and include them one by one)\",\n",
    "            \"descriptor\": \"Could be the color, physical state etc for qualitative, could be full details 1H NMR, 13C NMR, LCMS, MS or HPLC for quantitative, separated by \";\" or \". \". Separate these and include them one by one\"\n",
    "        }},\n",
    "        ...\n",
    "}}\n",
    "\n",
    "Few more guidelines:\n",
    "Please interpolate between various parts of the given data, and feel free to use reasoning about chemicals, but do not add any extra information in this cleaned JSON. If any information is missing, use \"N/A\". If there seems to be an information mismatch between the structured and unstructured parts, inform accordingly. Most importantly, only output the formatted JSON and nothing else. Most importantly, only output the formatted JSON and nothing else.'''"
   ]
  },
  {
   "cell_type": "code",
   "execution_count": 5,
   "id": "4c1522e9-fe57-4d58-b063-85a4f2ec0d4f",
   "metadata": {},
   "outputs": [],
   "source": [
    "file = pd.read_csv('combined_finetuning_data_test.csv')"
   ]
  },
  {
   "cell_type": "code",
   "execution_count": 6,
   "id": "bd67574b-bacb-4cc6-9bfc-a1e19aa21df9",
   "metadata": {},
   "outputs": [],
   "source": [
    "final = []\n",
    "for i in file.iterrows():\n",
    "    procedure = i[1]['text']\n",
    "    reactants = i[1]['molecules_reactants']\n",
    "    products = i[1]['molecules_products']\n",
    "    userinput = '''Procedure: {procedure}\n",
    "Reactants: {reactants}\n",
    "Products: {products}'''\n",
    "    full_datapt = [dict(role='system', content=template), dict(role='user', content=userinput.format(procedure=procedure, reactants=reactants, products=products))]\n",
    "    completion = client.chat.completions.create(model=\"\", messages=full_datapt)\n",
    "    final.append(completion.choices[0].message.content)\n",
    "    "
   ]
  },
  {
   "cell_type": "code",
   "execution_count": 7,
   "id": "7e29cc9d-302e-40a2-bddb-1ceeb7b1a20d",
   "metadata": {},
   "outputs": [],
   "source": [
    "a = pd.DataFrame(columns=[\"jsons\"], dtype='string')\n",
    "t = 0\n",
    "for i in final:\n",
    "    a.loc[t] = str(i)\n",
    "    t+=1\n",
    "a.to_csv('finetuning_gpt_3_5_responses.csv')"
   ]
  }
 ],
 "metadata": {
  "kernelspec": {
   "display_name": "Python 3 (ipykernel)",
   "language": "python",
   "name": "python3"
  },
  "language_info": {
   "codemirror_mode": {
    "name": "ipython",
    "version": 3
   },
   "file_extension": ".py",
   "mimetype": "text/x-python",
   "name": "python",
   "nbconvert_exporter": "python",
   "pygments_lexer": "ipython3",
   "version": "3.11.7"
  }
 },
 "nbformat": 4,
 "nbformat_minor": 5
}
