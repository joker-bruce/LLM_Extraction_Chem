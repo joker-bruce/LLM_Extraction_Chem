{
 "cells": [
  {
   "cell_type": "code",
   "execution_count": 1,
   "id": "f2ce87cf-140b-454a-82a3-4ba5a3fdb4c7",
   "metadata": {},
   "outputs": [],
   "source": [
    "from typing import Union, List\n",
    "\n",
    "from langchain.agents import tool\n",
    "from langchain.agents.format_scratchpad import format_log_to_str\n",
    "from langchain_core.output_parsers import StrOutputParser, JsonOutputParser\n",
    "from langchain.chat_models import ChatOpenAI\n",
    "from langchain.prompts import PromptTemplate\n",
    "from langchain.schema import AgentAction, AgentFinish\n",
    "from langchain.tools import Tool\n",
    "from langchain.tools.render import render_text_description"
   ]
  },
  {
   "cell_type": "code",
   "execution_count": 2,
   "id": "d16298d7-e44b-4e6f-b011-29b414a8c4bd",
   "metadata": {},
   "outputs": [],
   "source": [
    "from rdkit import Chem\n",
    "from rdkit.Chem import AllChem, Descriptors\n",
    "import pandas as pd\n",
    "import numpy as np"
   ]
  },
  {
   "cell_type": "code",
   "execution_count": 3,
   "id": "657a4353-2c93-4fcf-8019-7b0bee05a32a",
   "metadata": {},
   "outputs": [],
   "source": [
    "from rdkit import RDLogger\n",
    "RDLogger.DisableLog('rdApp.*')"
   ]
  },
  {
   "cell_type": "code",
   "execution_count": 41,
   "id": "aa8427ed-1493-4e78-83d8-35df143d8d89",
   "metadata": {},
   "outputs": [],
   "source": [
    "model = ChatOpenAI(temperature=0, model_name='gpt-4o', openai_api_key='your api-key here')"
   ]
  },
  {
   "cell_type": "code",
   "execution_count": 42,
   "id": "378cd6d4-e26d-4a8e-8bea-34c2eefb1205",
   "metadata": {},
   "outputs": [],
   "source": [
    "planner_template = '''You will be given some chemical reaction data in a JSON format. You have to fetch data from it, make it uniform, and report it as a list of the given format. Only output the list and nothing else. Do not use spaces, linebreaks, brackets or any other formatting. Do this for every reactant and product but not for spectators. Only list numerical values for weight, mols and yield WITHOUT UNITS but ensure their units are homogenous. Use None for any data field that contains \"N/A\".\n",
    "The list format is as follows:\n",
    "smiles1, weight1 (divide by 1000 if in mg), mols1 (in moles); smiles2, weight2 (divide by 1000 if in mg), mols2 (in moles);....; yield\n",
    "\n",
    "Here is the data:\n",
    "{extraction}'''"
   ]
  },
  {
   "cell_type": "code",
   "execution_count": 43,
   "id": "2292bade-c24f-4102-877b-396cf725595b",
   "metadata": {},
   "outputs": [],
   "source": [
    "parser = StrOutputParser()\n",
    "prompt = PromptTemplate(\n",
    "    template=planner_template,\n",
    "    input_variables=[\"extraction\"],\n",
    ")"
   ]
  },
  {
   "cell_type": "code",
   "execution_count": 44,
   "id": "3354adae-7fb4-4675-8f93-c79da09185e7",
   "metadata": {},
   "outputs": [],
   "source": [
    "chain = prompt | model | parser"
   ]
  },
  {
   "cell_type": "code",
   "execution_count": 45,
   "id": "5562ffd0-d9ce-4a74-87a0-5175bceff5d5",
   "metadata": {},
   "outputs": [],
   "source": [
    "file = pd.read_csv('prompt_tune_gpt3_5.csv')"
   ]
  },
  {
   "cell_type": "code",
   "execution_count": 46,
   "id": "1342cfa5-c465-4bc9-a96d-5c5cba31028b",
   "metadata": {},
   "outputs": [],
   "source": [
    "full_argument_list = []\n",
    "for i in file[\"jsons\"]:\n",
    "    full_argument_list.append(chain.invoke({\"extraction\": i}))"
   ]
  },
  {
   "cell_type": "code",
   "execution_count": null,
   "id": "9dc67c8e-67e0-4c7d-b679-92bc6515e283",
   "metadata": {},
   "outputs": [],
   "source": [
    "for i in full_argument_list:\n",
    "    mol_wise_list = [part.strip() for part in i.split(\";\")]\n",
    "    y = float(mol_wise_list[-1]) if mol_wise_list[-1] != 'None' else None\n",
    "    print(y)"
   ]
  },
  {
   "cell_type": "code",
   "execution_count": 47,
   "id": "6028f0cd-bae9-4a1b-b060-d2a425793e17",
   "metadata": {},
   "outputs": [],
   "source": [
    "def check(smiles, weight, mols):\n",
    "    if smiles is None:\n",
    "        return 3\n",
    "    m = Chem.MolFromSmiles(smiles)\n",
    "    if m is None:\n",
    "        return 3\n",
    "    elif weight is None or mols is None:\n",
    "        return 2\n",
    "    else:\n",
    "        mol_wt = Descriptors.MolWt(m)\n",
    "        if weight is None:\n",
    "            return 2\n",
    "        calc_mols = weight/mol_wt\n",
    "        dev = abs((mols - calc_mols))/mols\n",
    "        if dev <= 0.4:\n",
    "            return 1\n",
    "        else:\n",
    "            return 0"
   ]
  },
  {
   "cell_type": "code",
   "execution_count": null,
   "id": "653da0d7-d357-4a45-a7dd-7176958c434b",
   "metadata": {},
   "outputs": [],
   "source": [
    "final_list = []\n",
    "t = 0\n",
    "for i in full_argument_list:\n",
    "    valid_smiles = 0\n",
    "    verified_mols = 0\n",
    "    mol_min = 0\n",
    "    yield_score = 0\n",
    "    mol_wise_list = [part.strip() for part in i.split(\";\")]\n",
    "    n_molecules = len(mol_wise_list) - 1\n",
    "    try:\n",
    "        y = float(mol_wise_list[-1]) if mol_wise_list[-1] != 'None' else None\n",
    "    except ValueError as ve:\n",
    "        print('ValueError issue in example')\n",
    "    for j in range(len(mol_wise_list)-2):\n",
    "        mol_arguments  = [part.strip() for part in mol_wise_list[j].split(\",\")]\n",
    "        single_smiles = mol_arguments[0] if mol_arguments[0] != 'None' else None\n",
    "        single_weight = float(mol_arguments[1]) if mol_arguments[1] != 'None' else None\n",
    "        single_mols = float(mol_arguments[2]) if mol_arguments[2] != 'None' else None\n",
    "        checked_value = check(single_smiles, single_weight, single_mols)\n",
    "        if checked_value < 3:\n",
    "            valid_smiles += 1\n",
    "        if single_weight is None and single_mols is not None:\n",
    "            if Chem.MolFromSmiles(p_sm) is not None:\n",
    "                minmol = w/Descriptors.MolWt(Chem.MolFromSmiles(p_sm))\n",
    "            else:\n",
    "                minmol = 0\n",
    "        if value == 1:\n",
    "            verified_mols +=1\n",
    "            minmol = m\n",
    "            mol_min = min(mol_min, minmol)\n",
    "    p_arguments = [part.strip() for part in mol_wise_list[-2].split(\",\")]\n",
    "    p_smiles = p_arguments[0] if p_arguments[0] != 'None' else None\n",
    "    p_weight = float(p_arguments[1]) if p_arguments[1] != 'None' else None\n",
    "    p_mols = float(p_arguments[2]) if p_arguments[2] != 'None' else None\n",
    "    p_value = check(p_smiles, p_weight, p_mols)\n",
    "    \n",
    "    if p_value < 3:\n",
    "        valid_smiles += 1\n",
    "\n",
    "    if value == 1:\n",
    "        verified_mols += 1     \n",
    "        p_mol = p_m\n",
    "        if mol_min != 0:\n",
    "            if y/100 > p_mols/mol_min:\n",
    "                yield_score = 0\n",
    "        else:\n",
    "            yield_score = 1\n",
    "            \n",
    "    smiles_score = valid_smiles / n_molecules\n",
    "    mols_score = verified_mols / n_molecules\n",
    "    element_list = [smiles_score, mols_score, yield_score]\n",
    "\n",
    "    final_list.append(element_list)"
   ]
  },
  {
   "cell_type": "code",
   "execution_count": 199,
   "id": "7252e520-524b-44dd-afeb-5753a2ea3cb6",
   "metadata": {},
   "outputs": [],
   "source": [
    "p = pd.DataFrame(columns=[\"SMILES_score\", \"Mols_score\", \"Yield_score\"], dtype='string')"
   ]
  },
  {
   "cell_type": "code",
   "execution_count": null,
   "id": "bab13c6d-2f06-4c16-930e-b50f35473bb1",
   "metadata": {},
   "outputs": [],
   "source": [
    "for i in final_list:\n",
    "    a=i[0]\n",
    "    b=i[1]\n",
    "    c=i[2]\n",
    "    df = {'SMILES_score': a, 'Mols_score': b, 'Yield_score': c}\n",
    "    p = p._append(df, ignore_index = True)"
   ]
  },
  {
   "cell_type": "code",
   "execution_count": 203,
   "id": "d5e3afeb-c168-4f85-b474-8d0cfb828dc4",
   "metadata": {},
   "outputs": [],
   "source": [
    "p.to_csv('scores.csv')"
   ]
  },
  {
   "cell_type": "code",
   "execution_count": null,
   "id": "5289646e-e256-4f00-8907-38195fa6bc20",
   "metadata": {},
   "outputs": [],
   "source": [
    "metric_a=0\n",
    "metric_b=0\n",
    "metric_c=0\n",
    "for i in final_list:\n",
    "    metric_a+=i[0]\n",
    "    metric_b+=i[1]\n",
    "    metric_c+=i[2]\n",
    "print(a/len(final_list))\n",
    "print(b/len(final_list))\n",
    "print(c/len(final_list))"
   ]
  }
 ],
 "metadata": {
  "kernelspec": {
   "display_name": "Python 3 (ipykernel)",
   "language": "python",
   "name": "python3"
  },
  "language_info": {
   "codemirror_mode": {
    "name": "ipython",
    "version": 3
   },
   "file_extension": ".py",
   "mimetype": "text/x-python",
   "name": "python",
   "nbconvert_exporter": "python",
   "pygments_lexer": "ipython3",
   "version": "3.9.12"
  }
 },
 "nbformat": 4,
 "nbformat_minor": 5
}
